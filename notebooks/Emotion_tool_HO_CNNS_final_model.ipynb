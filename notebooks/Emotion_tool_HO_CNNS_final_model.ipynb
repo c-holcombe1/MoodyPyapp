{
  "cells": [
    {
      "cell_type": "code",
      "execution_count": null,
      "metadata": {
        "id": "6f34bad1",
        "colab": {
          "base_uri": "https://localhost:8080/"
        },
        "outputId": "90c55fbf-0d59-41ea-f2d0-b1ba556f5905"
      },
      "outputs": [
        {
          "output_type": "stream",
          "name": "stdout",
          "text": [
            "Mounted at /content/gdrive\n"
          ]
        }
      ],
      "source": [
        "import pandas as pd\n",
        "from google.colab import drive\n",
        "drive.mount('/content/gdrive')\n",
        "root_path = '/content/gdrive/MyDrive/Emotion_tool/DATA/fer2013.csv' \n",
        "\n",
        "data=pd.read_csv(root_path)"
      ],
      "id": "6f34bad1"
    },
    {
      "cell_type": "code",
      "execution_count": null,
      "metadata": {
        "colab": {
          "base_uri": "https://localhost:8080/",
          "height": 206
        },
        "id": "947b42bc",
        "outputId": "c6be5cdd-3378-47e7-fe04-c3a094305dce",
        "scrolled": true
      },
      "outputs": [
        {
          "output_type": "execute_result",
          "data": {
            "text/html": [
              "\n",
              "  <div id=\"df-4c82eb97-0777-44f3-ab54-32b69d1a62c8\">\n",
              "    <div class=\"colab-df-container\">\n",
              "      <div>\n",
              "<style scoped>\n",
              "    .dataframe tbody tr th:only-of-type {\n",
              "        vertical-align: middle;\n",
              "    }\n",
              "\n",
              "    .dataframe tbody tr th {\n",
              "        vertical-align: top;\n",
              "    }\n",
              "\n",
              "    .dataframe thead th {\n",
              "        text-align: right;\n",
              "    }\n",
              "</style>\n",
              "<table border=\"1\" class=\"dataframe\">\n",
              "  <thead>\n",
              "    <tr style=\"text-align: right;\">\n",
              "      <th></th>\n",
              "      <th>emotion</th>\n",
              "      <th>pixels</th>\n",
              "      <th>Usage</th>\n",
              "    </tr>\n",
              "  </thead>\n",
              "  <tbody>\n",
              "    <tr>\n",
              "      <th>0</th>\n",
              "      <td>0</td>\n",
              "      <td>70 80 82 72 58 58 60 63 54 58 60 48 89 115 121...</td>\n",
              "      <td>Training</td>\n",
              "    </tr>\n",
              "    <tr>\n",
              "      <th>1</th>\n",
              "      <td>0</td>\n",
              "      <td>151 150 147 155 148 133 111 140 170 174 182 15...</td>\n",
              "      <td>Training</td>\n",
              "    </tr>\n",
              "    <tr>\n",
              "      <th>2</th>\n",
              "      <td>2</td>\n",
              "      <td>231 212 156 164 174 138 161 173 182 200 106 38...</td>\n",
              "      <td>Training</td>\n",
              "    </tr>\n",
              "    <tr>\n",
              "      <th>3</th>\n",
              "      <td>4</td>\n",
              "      <td>24 32 36 30 32 23 19 20 30 41 21 22 32 34 21 1...</td>\n",
              "      <td>Training</td>\n",
              "    </tr>\n",
              "    <tr>\n",
              "      <th>4</th>\n",
              "      <td>6</td>\n",
              "      <td>4 0 0 0 0 0 0 0 0 0 0 0 3 15 23 28 48 50 58 84...</td>\n",
              "      <td>Training</td>\n",
              "    </tr>\n",
              "  </tbody>\n",
              "</table>\n",
              "</div>\n",
              "      <button class=\"colab-df-convert\" onclick=\"convertToInteractive('df-4c82eb97-0777-44f3-ab54-32b69d1a62c8')\"\n",
              "              title=\"Convert this dataframe to an interactive table.\"\n",
              "              style=\"display:none;\">\n",
              "        \n",
              "  <svg xmlns=\"http://www.w3.org/2000/svg\" height=\"24px\"viewBox=\"0 0 24 24\"\n",
              "       width=\"24px\">\n",
              "    <path d=\"M0 0h24v24H0V0z\" fill=\"none\"/>\n",
              "    <path d=\"M18.56 5.44l.94 2.06.94-2.06 2.06-.94-2.06-.94-.94-2.06-.94 2.06-2.06.94zm-11 1L8.5 8.5l.94-2.06 2.06-.94-2.06-.94L8.5 2.5l-.94 2.06-2.06.94zm10 10l.94 2.06.94-2.06 2.06-.94-2.06-.94-.94-2.06-.94 2.06-2.06.94z\"/><path d=\"M17.41 7.96l-1.37-1.37c-.4-.4-.92-.59-1.43-.59-.52 0-1.04.2-1.43.59L10.3 9.45l-7.72 7.72c-.78.78-.78 2.05 0 2.83L4 21.41c.39.39.9.59 1.41.59.51 0 1.02-.2 1.41-.59l7.78-7.78 2.81-2.81c.8-.78.8-2.07 0-2.86zM5.41 20L4 18.59l7.72-7.72 1.47 1.35L5.41 20z\"/>\n",
              "  </svg>\n",
              "      </button>\n",
              "      \n",
              "  <style>\n",
              "    .colab-df-container {\n",
              "      display:flex;\n",
              "      flex-wrap:wrap;\n",
              "      gap: 12px;\n",
              "    }\n",
              "\n",
              "    .colab-df-convert {\n",
              "      background-color: #E8F0FE;\n",
              "      border: none;\n",
              "      border-radius: 50%;\n",
              "      cursor: pointer;\n",
              "      display: none;\n",
              "      fill: #1967D2;\n",
              "      height: 32px;\n",
              "      padding: 0 0 0 0;\n",
              "      width: 32px;\n",
              "    }\n",
              "\n",
              "    .colab-df-convert:hover {\n",
              "      background-color: #E2EBFA;\n",
              "      box-shadow: 0px 1px 2px rgba(60, 64, 67, 0.3), 0px 1px 3px 1px rgba(60, 64, 67, 0.15);\n",
              "      fill: #174EA6;\n",
              "    }\n",
              "\n",
              "    [theme=dark] .colab-df-convert {\n",
              "      background-color: #3B4455;\n",
              "      fill: #D2E3FC;\n",
              "    }\n",
              "\n",
              "    [theme=dark] .colab-df-convert:hover {\n",
              "      background-color: #434B5C;\n",
              "      box-shadow: 0px 1px 3px 1px rgba(0, 0, 0, 0.15);\n",
              "      filter: drop-shadow(0px 1px 2px rgba(0, 0, 0, 0.3));\n",
              "      fill: #FFFFFF;\n",
              "    }\n",
              "  </style>\n",
              "\n",
              "      <script>\n",
              "        const buttonEl =\n",
              "          document.querySelector('#df-4c82eb97-0777-44f3-ab54-32b69d1a62c8 button.colab-df-convert');\n",
              "        buttonEl.style.display =\n",
              "          google.colab.kernel.accessAllowed ? 'block' : 'none';\n",
              "\n",
              "        async function convertToInteractive(key) {\n",
              "          const element = document.querySelector('#df-4c82eb97-0777-44f3-ab54-32b69d1a62c8');\n",
              "          const dataTable =\n",
              "            await google.colab.kernel.invokeFunction('convertToInteractive',\n",
              "                                                     [key], {});\n",
              "          if (!dataTable) return;\n",
              "\n",
              "          const docLinkHtml = 'Like what you see? Visit the ' +\n",
              "            '<a target=\"_blank\" href=https://colab.research.google.com/notebooks/data_table.ipynb>data table notebook</a>'\n",
              "            + ' to learn more about interactive tables.';\n",
              "          element.innerHTML = '';\n",
              "          dataTable['output_type'] = 'display_data';\n",
              "          await google.colab.output.renderOutput(dataTable, element);\n",
              "          const docLink = document.createElement('div');\n",
              "          docLink.innerHTML = docLinkHtml;\n",
              "          element.appendChild(docLink);\n",
              "        }\n",
              "      </script>\n",
              "    </div>\n",
              "  </div>\n",
              "  "
            ],
            "text/plain": [
              "   emotion                                             pixels     Usage\n",
              "0        0  70 80 82 72 58 58 60 63 54 58 60 48 89 115 121...  Training\n",
              "1        0  151 150 147 155 148 133 111 140 170 174 182 15...  Training\n",
              "2        2  231 212 156 164 174 138 161 173 182 200 106 38...  Training\n",
              "3        4  24 32 36 30 32 23 19 20 30 41 21 22 32 34 21 1...  Training\n",
              "4        6  4 0 0 0 0 0 0 0 0 0 0 0 3 15 23 28 48 50 58 84...  Training"
            ]
          },
          "metadata": {},
          "execution_count": 2
        }
      ],
      "source": [
        "data.head()"
      ],
      "id": "947b42bc"
    },
    {
      "cell_type": "code",
      "execution_count": null,
      "metadata": {
        "id": "2cab6ce5"
      },
      "outputs": [],
      "source": [
        "#index_drop = data[ data['emotion'] == 6 ].index\n",
        "#data.drop(index_drop, inplace = True)"
      ],
      "id": "2cab6ce5"
    },
    {
      "cell_type": "code",
      "execution_count": null,
      "metadata": {
        "colab": {
          "base_uri": "https://localhost:8080/"
        },
        "id": "779a7f2f",
        "outputId": "80e6e325-b2cd-426e-9ae7-1c47c3b7cfdc"
      },
      "outputs": [
        {
          "output_type": "execute_result",
          "data": {
            "text/plain": [
              "[0, 1, 2, 3, 4, 5, 6]"
            ]
          },
          "metadata": {},
          "execution_count": 13
        }
      ],
      "source": [
        "class_index = sorted(data.emotion.unique())\n",
        "class_index"
      ],
      "id": "779a7f2f"
    },
    {
      "cell_type": "code",
      "execution_count": null,
      "metadata": {
        "id": "c1d198af"
      },
      "outputs": [],
      "source": [
        "classes= ['Angry', 'Disgust', 'Fear', 'Happy', 'Sad', 'Surprise', 'Neutral']\n",
        "emotions={0:'Angry👿',\n",
        "          1:'Disgust🤢',\n",
        "          2:'Fear😱',\n",
        "          3:'Happy😊',\n",
        "          4:'Sad😔',\n",
        "          5:'Surprise😲',\n",
        "          6:'Neutral😐'}"
      ],
      "id": "c1d198af"
    },
    {
      "cell_type": "code",
      "execution_count": null,
      "metadata": {
        "id": "7a44c614"
      },
      "outputs": [],
      "source": [
        "import matplotlib.pyplot as plt\n",
        "import numpy as np\n",
        "import tensorflow as tf\n",
        "from tensorflow import keras\n",
        "from tensorflow.keras import layers\n",
        "import pandas as pd\n",
        "import numpy as np"
      ],
      "id": "7a44c614"
    },
    {
      "cell_type": "code",
      "execution_count": null,
      "metadata": {
        "id": "21eb8b12"
      },
      "outputs": [],
      "source": [
        "groups = [g for _, g in data.groupby('Usage')]\n",
        "train = groups[2]\n",
        "val = groups[1]\n",
        "test = groups[0]"
      ],
      "id": "21eb8b12"
    },
    {
      "cell_type": "code",
      "execution_count": null,
      "metadata": {
        "id": "ba4f46b4"
      },
      "outputs": [],
      "source": [
        "train = train.drop(labels=['Usage'], axis=1)\n",
        "val = val.drop(labels=['Usage'], axis=1)\n",
        "test = test.drop(labels=['Usage'], axis=1)"
      ],
      "id": "ba4f46b4"
    },
    {
      "cell_type": "code",
      "execution_count": null,
      "metadata": {
        "id": "b9394a10"
      },
      "outputs": [],
      "source": [
        "X_train = train[\"pixels\"]\n",
        "X_val = val[\"pixels\"]\n",
        "X_test = test[\"pixels\"]"
      ],
      "id": "b9394a10"
    },
    {
      "cell_type": "code",
      "execution_count": null,
      "metadata": {
        "id": "12fa28b6"
      },
      "outputs": [],
      "source": [
        "def preprocess(X):\n",
        "    X = np.array([np.fromstring(image, np.uint8, sep=' ') for image in X])\n",
        "    X = X/255.0\n",
        "    X = X.reshape(-1, 48, 48, 1)\n",
        "    return X"
      ],
      "id": "12fa28b6"
    },
    {
      "cell_type": "code",
      "execution_count": null,
      "metadata": {
        "id": "b6f9814c"
      },
      "outputs": [],
      "source": [
        "X_train = preprocess(X_train)\n",
        "X_val = preprocess(X_val)\n",
        "X_test = preprocess(X_test)"
      ],
      "id": "b6f9814c"
    },
    {
      "cell_type": "code",
      "execution_count": null,
      "metadata": {
        "colab": {
          "base_uri": "https://localhost:8080/"
        },
        "id": "57252aa0",
        "outputId": "fe711c35-a065-44e4-db8c-f051028126be"
      },
      "outputs": [
        {
          "output_type": "execute_result",
          "data": {
            "text/plain": [
              "((28709, 48, 48, 1), (3589, 48, 48, 1), (3589, 48, 48, 1))"
            ]
          },
          "metadata": {},
          "execution_count": 21
        }
      ],
      "source": [
        "X_train.shape, X_test.shape, X_val.shape"
      ],
      "id": "57252aa0"
    },
    {
      "cell_type": "code",
      "execution_count": null,
      "metadata": {
        "colab": {
          "base_uri": "https://localhost:8080/"
        },
        "id": "8IVgQ1smo5Dt",
        "outputId": "a6e2576d-c675-45e1-a283-77e8de9c8c2b"
      },
      "outputs": [
        {
          "output_type": "execute_result",
          "data": {
            "text/plain": [
              "(28709, 3589)"
            ]
          },
          "metadata": {},
          "execution_count": 22
        }
      ],
      "source": [
        "num_train = X_train.shape[0]\n",
        "num_val = X_val.shape[0]\n",
        "num_train, num_val"
      ],
      "id": "8IVgQ1smo5Dt"
    },
    {
      "cell_type": "code",
      "execution_count": null,
      "metadata": {
        "colab": {
          "base_uri": "https://localhost:8080/"
        },
        "id": "34925d36",
        "outputId": "08f88282-da40-426d-da9e-9c614064180c"
      },
      "outputs": [
        {
          "output_type": "execute_result",
          "data": {
            "text/plain": [
              "3    8989\n",
              "6    6198\n",
              "4    6077\n",
              "2    5121\n",
              "0    4953\n",
              "5    4002\n",
              "1     547\n",
              "Name: emotion, dtype: int64"
            ]
          },
          "metadata": {},
          "execution_count": 23
        }
      ],
      "source": [
        "data.emotion.value_counts()"
      ],
      "id": "34925d36"
    },
    {
      "cell_type": "code",
      "execution_count": null,
      "metadata": {
        "id": "d614dde7"
      },
      "outputs": [],
      "source": [
        "y_train = train[\"emotion\"]\n",
        "y_val = val[\"emotion\"]\n",
        "y_test = test[\"emotion\"]"
      ],
      "id": "d614dde7"
    },
    {
      "cell_type": "code",
      "execution_count": null,
      "metadata": {
        "colab": {
          "base_uri": "https://localhost:8080/"
        },
        "id": "6ef51994",
        "outputId": "9bba995e-be62-4803-dd2a-42bb0509ba55"
      },
      "outputs": [
        {
          "output_type": "execute_result",
          "data": {
            "text/plain": [
              "((28709,), (3589,), (3589,))"
            ]
          },
          "metadata": {},
          "execution_count": 25
        }
      ],
      "source": [
        "y_train.shape, y_test.shape, y_val.shape"
      ],
      "id": "6ef51994"
    },
    {
      "cell_type": "code",
      "execution_count": null,
      "metadata": {
        "colab": {
          "base_uri": "https://localhost:8080/",
          "height": 568
        },
        "id": "1c2575e8",
        "outputId": "7fce253b-46e1-4e60-82fb-06ab57d34a3e"
      },
      "outputs": [
        {
          "name": "stderr",
          "output_type": "stream",
          "text": [
            "/usr/local/lib/python3.7/dist-packages/seaborn/_decorators.py:43: FutureWarning: Pass the following variable as a keyword arg: x. From version 0.12, the only valid positional argument will be `data`, and passing other arguments without an explicit keyword will result in an error or misinterpretation.\n",
            "  FutureWarning\n",
            "/usr/local/lib/python3.7/dist-packages/seaborn/_decorators.py:43: FutureWarning: Pass the following variable as a keyword arg: x. From version 0.12, the only valid positional argument will be `data`, and passing other arguments without an explicit keyword will result in an error or misinterpretation.\n",
            "  FutureWarning\n",
            "/usr/local/lib/python3.7/dist-packages/seaborn/_decorators.py:43: FutureWarning: Pass the following variable as a keyword arg: x. From version 0.12, the only valid positional argument will be `data`, and passing other arguments without an explicit keyword will result in an error or misinterpretation.\n",
            "  FutureWarning\n"
          ]
        },
        {
          "data": {
            "text/plain": [
              "Text(0.5, 1.0, 'Counts per emotion in testing set')"
            ]
          },
          "execution_count": 17,
          "metadata": {},
          "output_type": "execute_result"
        },
        {
          "data": {
            "image/png": "[encoded data removed]",
            "text/plain": [
              "<Figure size 2160x504 with 3 Axes>"
            ]
          },
          "metadata": {},
          "output_type": "display_data"
        }
      ],
      "source": [
        "import matplotlib.pyplot as plt\n",
        "import seaborn as sns\n",
        "\n",
        "plt.figure(figsize=(30, 7))\n",
        "\n",
        "plt.subplot(1,3,1)\n",
        "ax = sns.countplot(y_train)\n",
        "ax.set(ylabel=\"count\", xlabel=\"emotion\")\n",
        "plt.title(\"Counts per emotion in training set\")\n",
        "\n",
        "plt.subplot(1,3,2)\n",
        "ax = sns.countplot(y_val)\n",
        "ax.set(ylabel=\"count\", xlabel=\"emotion\")\n",
        "plt.title(\"Counts per emotion in validation set\")\n",
        "\n",
        "plt.subplot(1,3,3)\n",
        "ax = sns.countplot(y_test)\n",
        "ax.set(ylabel=\"count\", xlabel=\"emotion\")\n",
        "plt.title(\"Counts per emotion in testing set\")"
      ],
      "id": "1c2575e8"
    },
    {
      "cell_type": "code",
      "execution_count": null,
      "metadata": {
        "id": "cd86b55d"
      },
      "outputs": [],
      "source": [
        "y_train=train['emotion']\n",
        "y_test=test['emotion']\n",
        "y_val=val['emotion']"
      ],
      "id": "cd86b55d"
    },
    {
      "cell_type": "code",
      "execution_count": null,
      "metadata": {
        "colab": {
          "base_uri": "https://localhost:8080/"
        },
        "id": "b8277414",
        "outputId": "fc16c862-9c4e-4905-c823-7f82f65dad6e"
      },
      "outputs": [
        {
          "output_type": "execute_result",
          "data": {
            "text/plain": [
              "[0, 1, 2, 3, 4, 5, 6]"
            ]
          },
          "metadata": {},
          "execution_count": 27
        }
      ],
      "source": [
        "sorted(y_train.unique())"
      ],
      "id": "b8277414"
    },
    {
      "cell_type": "code",
      "execution_count": null,
      "metadata": {
        "id": "d72d0002"
      },
      "outputs": [],
      "source": [
        "from tensorflow.keras.utils import to_categorical\n",
        "y_train_cat = to_categorical(y_train)\n",
        "y_test_cat = to_categorical(y_test)\n",
        "y_val_cat = to_categorical(y_val)"
      ],
      "id": "d72d0002"
    },
    {
      "cell_type": "code",
      "execution_count": null,
      "metadata": {
        "colab": {
          "base_uri": "https://localhost:8080/"
        },
        "id": "1e7d2ac9",
        "outputId": "f0fd54a8-b390-4a03-ba21-882608c3f444"
      },
      "outputs": [
        {
          "output_type": "execute_result",
          "data": {
            "text/plain": [
              "((28709, 7), (3589, 7), (3589, 7))"
            ]
          },
          "metadata": {},
          "execution_count": 29
        }
      ],
      "source": [
        "y_train_cat.shape, y_test_cat.shape, y_val_cat.shape"
      ],
      "id": "1e7d2ac9"
    },
    {
      "cell_type": "code",
      "execution_count": null,
      "metadata": {
        "colab": {
          "base_uri": "https://localhost:8080/"
        },
        "id": "920fc8dc",
        "outputId": "e26befcc-f2f9-43d2-97a0-59a8ef813883"
      },
      "outputs": [
        {
          "data": {
            "text/plain": [
              "array([[1., 0., 0., ..., 0., 0., 0.],\n",
              "       [1., 0., 0., ..., 0., 0., 0.],\n",
              "       [0., 0., 1., ..., 0., 0., 0.],\n",
              "       ...,\n",
              "       [0., 0., 0., ..., 1., 0., 0.],\n",
              "       [1., 0., 0., ..., 0., 0., 0.],\n",
              "       [0., 0., 0., ..., 1., 0., 0.]], dtype=float32)"
            ]
          },
          "execution_count": 22,
          "metadata": {},
          "output_type": "execute_result"
        }
      ],
      "source": [
        "y_train_cat"
      ],
      "id": "920fc8dc"
    },
    {
      "cell_type": "code",
      "execution_count": null,
      "metadata": {
        "colab": {
          "base_uri": "https://localhost:8080/"
        },
        "id": "fadedd17",
        "outputId": "b683566c-dcb7-429c-dc25-6ca700b074b4"
      },
      "outputs": [
        {
          "name": "stderr",
          "output_type": "stream",
          "text": [
            "/usr/local/lib/python3.7/dist-packages/keras/optimizer_v2/adam.py:105: UserWarning: The `lr` argument is deprecated, use `learning_rate` instead.\n",
            "  super(Adam, self).__init__(name, **kwargs)\n"
          ]
        }
      ],
      "source": [
        "from tensorflow.keras import layers\n",
        "from tensorflow.keras import models\n",
        "from tensorflow.keras.layers import Dropout\n",
        "from tensorflow.keras.layers import Dense\n",
        "import pandas as pd\n",
        "import numpy as np\n",
        "from sklearn.model_selection import train_test_split\n",
        "from keras.models import Sequential\n",
        "from keras.layers import Dense, Dropout, Activation, Flatten\n",
        "from keras.layers import Conv2D, MaxPooling2D, BatchNormalization\n",
        "from keras.losses import categorical_crossentropy\n",
        "from keras.regularizers import l2\n",
        "from tensorflow.keras import optimizers\n",
        "from keras.layers import Conv2D, MaxPooling2D, AveragePooling2D\n",
        "\n",
        "num_features = 64\n",
        "num_labels = 6\n",
        "width, height = 48, 48\n",
        "optimizer=tf.keras.optimizers.Adam(lr=0.0001, decay=1e-6)\n",
        "\n",
        "def initialize_model():\n",
        "    model = Sequential()\n",
        "    model.add(Conv2D(32, (3,3), padding=\"Same\", activation='relu', input_shape=(48,48,1)))\n",
        "    model.add(BatchNormalization())\n",
        "    model.add(Conv2D(32, (2,2), padding=\"Same\", activation='relu'))\n",
        "    model.add(MaxPooling2D((2,2)))\n",
        "    model.add(Dropout(0.5))\n",
        "    model.add(Conv2D(64, (2,2), padding=\"Same\", activation='relu'))\n",
        "    model.add(BatchNormalization())\n",
        "    model.add(Conv2D(64, (2,2), padding=\"Same\", activation='relu'))\n",
        "    model.add(MaxPooling2D((2,2))) \n",
        "    model.add(Dropout(0.5))\n",
        "    model.add(Conv2D(128, (2,2), padding=\"Same\", activation='relu'))\n",
        "    model.add(BatchNormalization())\n",
        "    model.add(Conv2D(128, (2,2), padding=\"Same\", activation='relu'))\n",
        "    model.add(MaxPooling2D((2,2))) \n",
        "    model.add(Dropout(0.5))\n",
        "    model.add(Flatten())\n",
        "    model.add(Dense(256, activation='relu'))\n",
        "    model.add(Dense(7, activation='softmax'))\n",
        "\n",
        "\n",
        "    \n",
        "    ### Model compilation\n",
        "    model.compile(loss='categorical_crossentropy',\n",
        "              optimizer='adam',\n",
        "              metrics=['accuracy'])\n",
        "    \n",
        "    return model"
      ],
      "id": "fadedd17"
    },
    {
      "cell_type": "code",
      "execution_count": null,
      "metadata": {
        "id": "KhMfrqmnIdjy"
      },
      "outputs": [],
      "source": [
        ""
      ],
      "id": "KhMfrqmnIdjy"
    },
    {
      "cell_type": "code",
      "execution_count": null,
      "metadata": {
        "colab": {
          "background_save": true,
          "base_uri": "https://localhost:8080/"
        },
        "id": "067ce0db",
        "outputId": "dac2b611-a2f9-4000-d079-3c380423e627"
      },
      "outputs": [
        {
          "name": "stdout",
          "output_type": "stream",
          "text": [
            "Epoch 1/50\n",
            "449/449 [==============================] - 263s 582ms/step - loss: 1.9442 - accuracy: 0.2726 - val_loss: 1.8163 - val_accuracy: 0.2145 - lr: 0.0010\n",
            "Epoch 2/50\n",
            "449/449 [==============================] - 259s 578ms/step - loss: 1.5915 - accuracy: 0.3720 - val_loss: 1.4737 - val_accuracy: 0.4397 - lr: 0.0010\n",
            "Epoch 3/50\n",
            "449/449 [==============================] - 261s 580ms/step - loss: 1.4830 - accuracy: 0.4279 - val_loss: 1.4216 - val_accuracy: 0.4489 - lr: 0.0010\n",
            "Epoch 4/50\n",
            "449/449 [==============================] - 261s 581ms/step - loss: 1.4255 - accuracy: 0.4519 - val_loss: 1.3818 - val_accuracy: 0.4720 - lr: 0.0010\n",
            "Epoch 5/50\n",
            "449/449 [==============================] - 258s 574ms/step - loss: 1.3799 - accuracy: 0.4703 - val_loss: 1.3673 - val_accuracy: 0.4823 - lr: 0.0010\n",
            "Epoch 6/50\n",
            "449/449 [==============================] - 255s 567ms/step - loss: 1.3375 - accuracy: 0.4887 - val_loss: 1.2642 - val_accuracy: 0.5132 - lr: 0.0010\n",
            "Epoch 7/50\n",
            "449/449 [==============================] - 255s 567ms/step - loss: 1.3027 - accuracy: 0.5035 - val_loss: 1.5643 - val_accuracy: 0.3904 - lr: 0.0010\n",
            "Epoch 8/50\n",
            "449/449 [==============================] - 255s 567ms/step - loss: 1.2754 - accuracy: 0.5132 - val_loss: 1.3203 - val_accuracy: 0.5026 - lr: 0.0010\n",
            "Epoch 9/50\n",
            "449/449 [==============================] - 255s 568ms/step - loss: 1.2523 - accuracy: 0.5241 - val_loss: 1.2090 - val_accuracy: 0.5339 - lr: 0.0010\n",
            "Epoch 10/50\n",
            "449/449 [==============================] - 259s 578ms/step - loss: 1.2361 - accuracy: 0.5316 - val_loss: 1.2551 - val_accuracy: 0.5233 - lr: 0.0010\n",
            "Epoch 11/50\n",
            "449/449 [==============================] - 258s 576ms/step - loss: 1.2190 - accuracy: 0.5406 - val_loss: 1.2367 - val_accuracy: 0.5308 - lr: 0.0010\n",
            "Epoch 12/50\n",
            "449/449 [==============================] - 258s 575ms/step - loss: 1.2006 - accuracy: 0.5438 - val_loss: 1.1759 - val_accuracy: 0.5514 - lr: 0.0010\n",
            "Epoch 13/50\n",
            "449/449 [==============================] - 258s 575ms/step - loss: 1.1810 - accuracy: 0.5548 - val_loss: 1.1425 - val_accuracy: 0.5678 - lr: 0.0010\n",
            "Epoch 14/50\n",
            "449/449 [==============================] - 258s 575ms/step - loss: 1.1656 - accuracy: 0.5599 - val_loss: 1.1312 - val_accuracy: 0.5720 - lr: 0.0010\n",
            "Epoch 15/50\n",
            "449/449 [==============================] - 259s 577ms/step - loss: 1.1527 - accuracy: 0.5669 - val_loss: 1.1519 - val_accuracy: 0.5581 - lr: 0.0010\n",
            "Epoch 16/50\n",
            "449/449 [==============================] - 259s 577ms/step - loss: 1.1442 - accuracy: 0.5671 - val_loss: 1.1690 - val_accuracy: 0.5645 - lr: 0.0010\n",
            "Epoch 17/50\n",
            "449/449 [==============================] - 259s 576ms/step - loss: 1.1323 - accuracy: 0.5756 - val_loss: 1.1300 - val_accuracy: 0.5690 - lr: 0.0010\n",
            "Epoch 18/50\n",
            "449/449 [==============================] - 258s 576ms/step - loss: 1.1190 - accuracy: 0.5815 - val_loss: 1.1308 - val_accuracy: 0.5715 - lr: 0.0010\n",
            "Epoch 19/50\n",
            "449/449 [==============================] - 258s 574ms/step - loss: 1.1070 - accuracy: 0.5865 - val_loss: 1.1112 - val_accuracy: 0.5801 - lr: 0.0010\n",
            "Epoch 20/50\n",
            "449/449 [==============================] - 257s 573ms/step - loss: 1.0920 - accuracy: 0.5939 - val_loss: 1.1190 - val_accuracy: 0.5815 - lr: 0.0010\n",
            "Epoch 21/50\n",
            "449/449 [==============================] - 258s 574ms/step - loss: 1.0802 - accuracy: 0.5982 - val_loss: 1.0826 - val_accuracy: 0.5982 - lr: 0.0010\n",
            "Epoch 22/50\n",
            "449/449 [==============================] - 258s 574ms/step - loss: 1.0654 - accuracy: 0.6017 - val_loss: 1.1531 - val_accuracy: 0.5665 - lr: 0.0010\n",
            "Epoch 23/50\n",
            "449/449 [==============================] - 257s 573ms/step - loss: 1.0550 - accuracy: 0.6093 - val_loss: 1.1391 - val_accuracy: 0.5787 - lr: 0.0010\n",
            "Epoch 24/50\n",
            "449/449 [==============================] - 259s 576ms/step - loss: 1.0441 - accuracy: 0.6120 - val_loss: 1.1022 - val_accuracy: 0.5940 - lr: 0.0010\n",
            "Epoch 25/50\n",
            "449/449 [==============================] - 259s 578ms/step - loss: 1.0329 - accuracy: 0.6186 - val_loss: 1.1281 - val_accuracy: 0.5798 - lr: 0.0010\n",
            "Epoch 26/50\n",
            "449/449 [==============================] - 261s 580ms/step - loss: 1.0235 - accuracy: 0.6175 - val_loss: 1.0781 - val_accuracy: 0.6010 - lr: 0.0010\n",
            "Epoch 27/50\n",
            "449/449 [==============================] - 259s 577ms/step - loss: 1.0098 - accuracy: 0.6255 - val_loss: 1.1336 - val_accuracy: 0.5871 - lr: 0.0010\n",
            "Epoch 28/50\n",
            "449/449 [==============================] - 260s 579ms/step - loss: 1.0010 - accuracy: 0.6273 - val_loss: 1.1098 - val_accuracy: 0.5954 - lr: 0.0010\n",
            "Epoch 29/50\n",
            "449/449 [==============================] - 258s 575ms/step - loss: 0.9836 - accuracy: 0.6321 - val_loss: 1.0786 - val_accuracy: 0.6046 - lr: 0.0010\n",
            "Epoch 30/50\n",
            "449/449 [==============================] - 255s 569ms/step - loss: 0.9705 - accuracy: 0.6380 - val_loss: 1.1526 - val_accuracy: 0.5773 - lr: 0.0010\n",
            "Epoch 31/50\n",
            "449/449 [==============================] - 256s 569ms/step - loss: 0.9638 - accuracy: 0.6422 - val_loss: 1.1114 - val_accuracy: 0.6016 - lr: 0.0010\n",
            "Epoch 32/50\n",
            "449/449 [==============================] - 254s 566ms/step - loss: 0.9513 - accuracy: 0.6460 - val_loss: 1.1248 - val_accuracy: 0.5924 - lr: 0.0010\n",
            "Epoch 33/50\n",
            "449/449 [==============================] - 254s 565ms/step - loss: 0.9406 - accuracy: 0.6538 - val_loss: 1.0856 - val_accuracy: 0.6035 - lr: 0.0010\n",
            "Epoch 34/50\n",
            "449/449 [==============================] - 257s 572ms/step - loss: 0.9365 - accuracy: 0.6535 - val_loss: 1.0875 - val_accuracy: 0.6018 - lr: 0.0010\n",
            "Epoch 35/50\n",
            "449/449 [==============================] - ETA: 0s - loss: 0.9193 - accuracy: 0.6635Restoring model weights from the end of the best epoch: 29.\n",
            "449/449 [==============================] - 254s 566ms/step - loss: 0.9193 - accuracy: 0.6635 - val_loss: 1.1597 - val_accuracy: 0.5851 - lr: 0.0010\n",
            "Epoch 35: early stopping\n"
          ]
        }
      ],
      "source": [
        "from keras.callbacks import ReduceLROnPlateau  #Reduce learning rate when a metric has stopped improving.\n",
        "from tensorflow.keras.callbacks import EarlyStopping  #Stop training when a monitored metric has stopped improving.\n",
        "early_stopping = EarlyStopping(\n",
        "    monitor='val_accuracy',\n",
        "    \n",
        "    patience=6,\n",
        "    verbose=1,\n",
        "    restore_best_weights=True,\n",
        ")\n",
        "\n",
        "lr_scheduler = ReduceLROnPlateau(\n",
        "    monitor='val_accuracy',\n",
        "    factor=0.5,\n",
        "    patience=7,\n",
        "    min_lr=1e-7,\n",
        "    verbose=1,\n",
        ")\n",
        "\n",
        "callbacks = [\n",
        "    early_stopping,\n",
        "    lr_scheduler,\n",
        "]\n",
        "\n",
        "batch_size = 32 \n",
        "\n",
        "epochs = 100\n",
        "\n",
        "model=initialize_model()\n",
        "\n",
        "history = model.fit(X_train, y_train_cat,\n",
        "          validation_data=[X_val, y_val_cat],\n",
        "          epochs=50,  \n",
        "          batch_size=64, \n",
        "          verbose=1,\n",
        "          callbacks=callbacks)"
      ],
      "id": "067ce0db"
    },
    {
      "cell_type": "code",
      "execution_count": null,
      "metadata": {
        "colab": {
          "base_uri": "https://localhost:8080/",
          "height": 265
        },
        "id": "ee3098e5",
        "outputId": "71525886-f2d3-4e3e-ddb0-66430b8dec5b"
      },
      "outputs": [
        {
          "data": {
            "image/png": "[encoded data removed]",
            "text/plain": [
              "<Figure size 432x288 with 2 Axes>"
            ]
          },
          "metadata": {},
          "output_type": "display_data"
        }
      ],
      "source": [
        " .loiop9fig, ax = plt.subplots(2,1)\n",
        "ax[0].plot(history.history['loss'], color='b', label=\"Training loss\")\n",
        "ax[0].plot(history.history['val_loss'], color='r', label=\"validation loss\",axes =ax[0])\n",
        "legend = ax[0].legend(loc='best', shadow=True)\n",
        "\n",
        "ax[1].plot(history.history['accuracy'], color='b', label=\"Training accuracy\")\n",
        "ax[1].plot(history.history['val_accuracy'], color='r',label=\"Validation accuracy\")\n",
        "legend = ax[1].legend(loc='best', shadow=True)"
      ],
      "id": "ee3098e5"
    },
    {
      "cell_type": "code",
      "source": [
        "from tensorflow import keras\n",
        "model = keras.models.load_model('/content/drive/MyDrive/Emotion_tool/models/model.h5')"
      ],
      "metadata": {
        "id": "3Hoe0Y5XkTR5"
      },
      "id": "3Hoe0Y5XkTR5",
      "execution_count": null,
      "outputs": []
    },
    {
      "cell_type": "code",
      "execution_count": null,
      "metadata": {
        "colab": {
          "base_uri": "https://localhost:8080/"
        },
        "id": "4XMlmSQ_QMKv",
        "outputId": "a294c191-3efd-464f-8ab9-244ea057759d"
      },
      "outputs": [
        {
          "data": {
            "text/plain": [
              "[1.110321044921875, 0.6338813304901123]"
            ]
          },
          "execution_count": 31,
          "metadata": {},
          "output_type": "execute_result"
        }
      ],
      "source": [
        "results= model.evaluate(X_test, y_test_cat, verbose=0)\n",
        "results"
      ],
      "id": "4XMlmSQ_QMKv"
    },
    {
      "cell_type": "code",
      "execution_count": null,
      "metadata": {
        "colab": {
          "base_uri": "https://localhost:8080/"
        },
        "id": "M2wbWyovQjg3",
        "outputId": "b8cd02d5-f0f6-4408-929a-fc07fbedc045"
      },
      "outputs": [
        {
          "output_type": "execute_result",
          "data": {
            "text/plain": [
              "array([[256,   5,  36,  40,  75,   7,  72],\n",
              "       [ 10,  31,   1,   2,   6,   3,   2],\n",
              "       [ 54,   2, 212,  30,  99,  47,  84],\n",
              "       [ 16,   1,  11, 764,  30,  14,  43],\n",
              "       [ 59,   3,  42,  37, 294,   7, 152],\n",
              "       [ 10,   0,  37,  38,  12, 299,  20],\n",
              "       [ 40,   0,  24,  53,  85,   5, 419]])"
            ]
          },
          "metadata": {},
          "execution_count": 32
        }
      ],
      "source": [
        "from sklearn.metrics import classification_report, confusion_matrix\n",
        " \n",
        "pred_list = []; actual_list = []\n",
        "predictions=model.predict(X_test)\n",
        "for i in predictions:\n",
        " \n",
        "  pred_list.append(np.argmax(i))\n",
        "for i in y_test_cat:\n",
        " \n",
        "  actual_list.append(np.argmax(i))\n",
        "\n",
        "cm=confusion_matrix(actual_list, pred_list)\n",
        "cm"
      ],
      "id": "M2wbWyovQjg3"
    },
    {
      "cell_type": "code",
      "execution_count": null,
      "metadata": {
        "colab": {
          "base_uri": "https://localhost:8080/",
          "height": 299
        },
        "id": "y5PYPEpKQsEF",
        "outputId": "3d22b9fb-f368-4f23-d26c-6ecb5b099f9b"
      },
      "outputs": [
        {
          "output_type": "execute_result",
          "data": {
            "text/plain": [
              "Text(33.0, 0.5, 'pred_list')"
            ]
          },
          "metadata": {},
          "execution_count": 33
        },
        {
          "output_type": "display_data",
          "data": {
            "image/png": "[encoded data removed]",
            "text/plain": [
              "<Figure size 432x288 with 2 Axes>"
            ]
          },
          "metadata": {
            "needs_background": "light"
          }
        }
      ],
      "source": [
        "import seaborn as sn\n",
        "\n",
        "sn.heatmap(cm,annot=True,fmt='d')\n",
        "plt.xlabel(\"actual_list\")\n",
        "plt.ylabel(\"pred_list\")"
      ],
      "id": "y5PYPEpKQsEF"
    },
    {
      "cell_type": "code",
      "execution_count": null,
      "metadata": {
        "id": "InBWt28qQzYB"
      },
      "outputs": [],
      "source": [
        "from keras.preprocessing import image\n",
        "import cv2\n",
        " \n",
        "img = cv2.imread('D:/image-1.png', cv2.IMREAD_GRAYSCALE)\n",
        "\n",
        "def classify(image_path):\n",
        "    \n",
        "    #Reading the image and Converting Image into Grayscale\n",
        "    img = cv2.imread(image_path, cv2.IMREAD_GRAYSCALE)\n",
        "    #Resizing and Reshaping the image into the required format for the model \n",
        "    #create a batch of images (Convert single image to a batch: x= np.expand_dims(x, axis=0))\n",
        "    x =cv2.resize(img, (48,48)).reshape((1,48,48,1))\n",
        "    x = x/255\n",
        "    #predict\n",
        "    prediction = model.predict(x)\n",
        "    predicted_class=np.argmax(prediction)\n",
        "    predicted_emotion = emotions[predicted_class]\n",
        "    return predicted_emotion"
      ],
      "id": "InBWt28qQzYB"
    },
    {
      "cell_type": "code",
      "execution_count": null,
      "metadata": {
        "colab": {
          "base_uri": "https://localhost:8080/",
          "height": 35
        },
        "id": "MCfOlMlFQ59X",
        "outputId": "bd6ae422-1cef-4cf9-aa45-f73425917d5b"
      },
      "outputs": [
        {
          "data": {
            "application/vnd.google.colaboratory.intrinsic+json": {
              "type": "string"
            },
            "text/plain": [
              "'Sad'"
            ]
          },
          "execution_count": 39,
          "metadata": {},
          "output_type": "execute_result"
        }
      ],
      "source": [
        "result=classify(\"/content/gdrive/MyDrive/WIN_20220303_15_47_22_Pro.jpg\")\n",
        "result"
      ],
      "id": "MCfOlMlFQ59X"
    },
    {
      "cell_type": "code",
      "execution_count": null,
      "metadata": {
        "id": "217eoiZFRPhG"
      },
      "outputs": [],
      "source": [
        "# Save your model here in .h5 format\n",
        "model.save('model.h5')\n"
      ],
      "id": "217eoiZFRPhG"
    },
    {
      "cell_type": "code",
      "execution_count": null,
      "metadata": {
        "id": "wRaSEZv0SJog"
      },
      "outputs": [],
      "source": [
        "model.save_weights('weight.h5')"
      ],
      "id": "wRaSEZv0SJog"
    },
    {
      "cell_type": "code",
      "execution_count": null,
      "metadata": {
        "id": "Op30rEvLSMhN"
      },
      "outputs": [],
      "source": [
        "from tensorflow import keras\n",
        "model = keras.models.load_model('/content/gdrive/MyDrive/Emotion_tool/models/model.h5')"
      ],
      "id": "Op30rEvLSMhN"
    },
    {
      "cell_type": "code",
      "execution_count": null,
      "metadata": {
        "colab": {
          "base_uri": "https://localhost:8080/"
        },
        "id": "ADydMVC4SXeT",
        "outputId": "16533c54-5358-4fdb-ac0c-d630f72ed8f5"
      },
      "outputs": [
        {
          "output_type": "stream",
          "name": "stdout",
          "text": [
            "Found 47 images belonging to 7 classes.\n"
          ]
        }
      ],
      "source": [
        "from tensorflow.keras.preprocessing.image import ImageDataGenerator\n",
        "test_datagen = ImageDataGenerator(\n",
        "        rescale=1./255)\n",
        "\n",
        "test_generator = test_datagen.flow_from_directory(\n",
        "        '/content/gdrive/MyDrive/Emotion_tool/DATA/test_emotions_7cat',\n",
        "        \n",
        "        batch_size=64,\n",
        "        target_size=(48,48),\n",
        "        color_mode='grayscale',\n",
        "        \n",
        "    \n",
        "        class_mode='categorical')"
      ],
      "id": "ADydMVC4SXeT"
    },
    {
      "cell_type": "code",
      "execution_count": null,
      "metadata": {
        "colab": {
          "base_uri": "https://localhost:8080/"
        },
        "id": "oxbC8_pUXWPt",
        "outputId": "26263787-8577-4daf-8184-0d25c3a9ca94"
      },
      "outputs": [
        {
          "output_type": "execute_result",
          "data": {
            "text/plain": [
              "(47, 48, 48, 1)"
            ]
          },
          "metadata": {},
          "execution_count": 6
        }
      ],
      "source": [
        "x_ev,y_ev = test_generator[0]\n",
        "x_ev.shape"
      ],
      "id": "oxbC8_pUXWPt"
    },
    {
      "cell_type": "code",
      "execution_count": null,
      "metadata": {
        "colab": {
          "base_uri": "https://localhost:8080/"
        },
        "id": "KalIRi6LXefn",
        "outputId": "4b4cc8c8-a76c-42e5-effc-57053eaa85ba"
      },
      "outputs": [
        {
          "output_type": "stream",
          "name": "stdout",
          "text": [
            "2/2 [==============================] - 9s 119ms/step - loss: 5.9028 - accuracy: 0.2553\n"
          ]
        },
        {
          "output_type": "execute_result",
          "data": {
            "text/plain": [
              "[5.902813911437988, 0.25531914830207825]"
            ]
          },
          "metadata": {},
          "execution_count": 7
        }
      ],
      "source": [
        "model.evaluate(x_ev,y_ev)"
      ],
      "id": "KalIRi6LXefn"
    },
    {
      "cell_type": "code",
      "execution_count": null,
      "metadata": {
        "id": "BKvtTsr7XXGz",
        "colab": {
          "base_uri": "https://localhost:8080/"
        },
        "outputId": "9a97e08e-076b-4e97-cc99-f8cc7adfca31"
      },
      "outputs": [
        {
          "output_type": "stream",
          "name": "stdout",
          "text": [
            "52.1 % model correctly predict Angry\n",
            "56.4 % model correctly predict Disgust\n",
            "40.2 % model correctly predict Fear\n",
            "86.9 % model correctly predict Happy\n",
            "49.5 % model correctly predict Sad\n",
            "71.9 % model correctly predict Surprise\n",
            "66.9 % model correctly predict Neutral\n"
          ]
        }
      ],
      "source": [
        "import tensorflow.experimental.numpy as tnp\n",
        "tnp.experimental_enable_numpy_behavior()\n",
        "\n",
        "dct_2=emotions={0:'Angry',\n",
        "          1:'Disgust',\n",
        "          2:'Fear',\n",
        "          3:'Happy',\n",
        "          4:'Sad',\n",
        "          5:'Surprise',\n",
        "          6:'Neutral'}\n",
        "\n",
        "\n",
        "for i,e in dct_2.items():\n",
        "  acc = round(cm[i,i]/sum(cm[i])*100,1)\n",
        "  print(f'{acc} % model correctly predict {e}')\n",
        "\n"
      ],
      "id": "BKvtTsr7XXGz"
    },
    {
      "cell_type": "code",
      "source": [
        ""
      ],
      "metadata": {
        "id": "BAYeZLUJj6qV"
      },
      "id": "BAYeZLUJj6qV",
      "execution_count": null,
      "outputs": []
    }
  ],
  "metadata": {
    "accelerator": "GPU",
    "colab": {
      "collapsed_sections": [],
      "name": "Emotion_tool_HO_final_model.ipynb",
      "provenance": []
    },
    "kernelspec": {
      "display_name": "Python 3 (ipykernel)",
      "language": "python",
      "name": "python3"
    },
    "language_info": {
      "codemirror_mode": {
        "name": "ipython",
        "version": 3
      },
      "file_extension": ".py",
      "mimetype": "text/x-python",
      "name": "python",
      "nbconvert_exporter": "python",
      "pygments_lexer": "ipython3",
      "version": "3.8.12"
    },
    "toc": {
      "base_numbering": 1,
      "nav_menu": {},
      "number_sections": true,
      "sideBar": true,
      "skip_h1_title": false,
      "title_cell": "Table of Contents",
      "title_sidebar": "Contents",
      "toc_cell": false,
      "toc_position": {},
      "toc_section_display": true,
      "toc_window_display": false
    }
  },
  "nbformat": 4,
  "nbformat_minor": 5
}